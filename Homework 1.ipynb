{
 "cells": [
  {
   "cell_type": "markdown",
   "metadata": {},
   "source": [
    "### Problem 1"
   ]
  },
  {
   "cell_type": "code",
   "execution_count": 2,
   "metadata": {},
   "outputs": [
    {
     "name": "stdout",
     "output_type": "stream",
     "text": [
      "please enter a new value 15\n"
     ]
    }
   ],
   "source": [
    "list1=[0,2,5,[1,5,7]]\n",
    "list1\n",
    "x=int(input(\"please enter a new value \"))"
   ]
  },
  {
   "cell_type": "code",
   "execution_count": 3,
   "metadata": {},
   "outputs": [
    {
     "name": "stdout",
     "output_type": "stream",
     "text": [
      "Number of 15 =  1\n"
     ]
    }
   ],
   "source": [
    "list1.insert(3, x)\n",
    "list2=list1\n",
    "list2\n",
    "print(\"Number of %s = \" % x,  list2.count(x) )"
   ]
  },
  {
   "cell_type": "markdown",
   "metadata": {},
   "source": [
    "### Problem 2"
   ]
  },
  {
   "cell_type": "code",
   "execution_count": 18,
   "metadata": {},
   "outputs": [
    {
     "data": {
      "text/plain": [
       "(15, 'Mary', 11, 12, 16, 'Hellen')"
      ]
     },
     "execution_count": 18,
     "metadata": {},
     "output_type": "execute_result"
    }
   ],
   "source": [
    "t2=(15, \"Mary\", 11, 12, 16, \"Hellen\")\n",
    "t2"
   ]
  },
  {
   "cell_type": "code",
   "execution_count": 25,
   "metadata": {},
   "outputs": [
    {
     "data": {
      "text/plain": [
       "(15, 'Mary', 11, 12, 'Hello', 'Hellen')"
      ]
     },
     "execution_count": 25,
     "metadata": {},
     "output_type": "execute_result"
    }
   ],
   "source": [
    "t=list(t2)\n",
    "t[4]=\"Hello\"\n",
    "t1=tuple(t)\n",
    "t1"
   ]
  },
  {
   "cell_type": "markdown",
   "metadata": {},
   "source": [
    "### Problem 3"
   ]
  },
  {
   "cell_type": "code",
   "execution_count": 7,
   "metadata": {},
   "outputs": [
    {
     "name": "stdout",
     "output_type": "stream",
     "text": [
      "Please enter your weight!63\n",
      "{'name': 'Armen', 'age': 15, 'grades': [10, 8, 8, 4, 6, 7], 'weight': 63}\n"
     ]
    }
   ],
   "source": [
    "d={\"name\": \"Armen\", \"age\":15,\"grades\":[10,8,8,4,6,7]}\n",
    "if \"weight\" not in d.keys():\n",
    "    n=int(input(\"Please enter your weight!\"))\n",
    "    d[\"weight\"]=n\n",
    "    print(d)       \n",
    "else:\n",
    "    print(d[\"weight\"])"
   ]
  },
  {
   "cell_type": "markdown",
   "metadata": {},
   "source": [
    "### Problem 4"
   ]
  },
  {
   "cell_type": "code",
   "execution_count": 1,
   "metadata": {},
   "outputs": [
    {
     "name": "stdout",
     "output_type": "stream",
     "text": [
      "Please guess the number! 12\n",
      "Please guess the number! 15\n",
      "Please guess the number! 3\n",
      "Please guess the number! 8\n",
      "Please guess the number! 6\n",
      "Please guess the number! 5\n"
     ]
    }
   ],
   "source": [
    "correct_num=5\n",
    "for i in range(10):\n",
    "    guess=int(input(\"Please guess the number! \"))\n",
    "    if guess==correct_num:\n",
    "        break"
   ]
  },
  {
   "cell_type": "markdown",
   "metadata": {},
   "source": [
    "### Problem 5\n"
   ]
  },
  {
   "cell_type": "code",
   "execution_count": 14,
   "metadata": {},
   "outputs": [
    {
     "data": {
      "text/plain": [
       "2"
      ]
     },
     "execution_count": 14,
     "metadata": {},
     "output_type": "execute_result"
    }
   ],
   "source": [
    "list1=['a','abc','xyz','s','aba','1221']\n",
    "list2=[i for i in list1 if len(i)>=2 and i[0]==i[-1]]\n",
    "len(list2)"
   ]
  }
 ],
 "metadata": {
  "kernelspec": {
   "display_name": "Python 3",
   "language": "python",
   "name": "python3"
  },
  "language_info": {
   "codemirror_mode": {
    "name": "ipython",
    "version": 3
   },
   "file_extension": ".py",
   "mimetype": "text/x-python",
   "name": "python",
   "nbconvert_exporter": "python",
   "pygments_lexer": "ipython3",
   "version": "3.7.6"
  }
 },
 "nbformat": 4,
 "nbformat_minor": 4
}
