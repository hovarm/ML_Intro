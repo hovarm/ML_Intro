{
 "cells": [
  {
   "cell_type": "markdown",
   "metadata": {},
   "source": [
    "### Problem 1"
   ]
  },
  {
   "cell_type": "code",
   "execution_count": 117,
   "metadata": {},
   "outputs": [],
   "source": [
    "def my_max(*args):\n",
    "    max_number=args[0]\n",
    "    for i in args:\n",
    "        if i>max_number:\n",
    "            max_number=i\n",
    "    print(max_number)\n",
    "        "
   ]
  },
  {
   "cell_type": "code",
   "execution_count": 120,
   "metadata": {},
   "outputs": [
    {
     "name": "stdout",
     "output_type": "stream",
     "text": [
      "79\n"
     ]
    }
   ],
   "source": [
    "a=my_max(-15,-22,-7,-23,0,79)"
   ]
  },
  {
   "cell_type": "markdown",
   "metadata": {},
   "source": [
    "### Problem 2"
   ]
  },
  {
   "cell_type": "code",
   "execution_count": 129,
   "metadata": {},
   "outputs": [],
   "source": [
    "def unique_list(l):\n",
    "    set1=set(l)\n",
    "    return list(set1)"
   ]
  },
  {
   "cell_type": "code",
   "execution_count": 130,
   "metadata": {},
   "outputs": [
    {
     "data": {
      "text/plain": [
       "[24, 17, 15]"
      ]
     },
     "execution_count": 130,
     "metadata": {},
     "output_type": "execute_result"
    }
   ],
   "source": [
    "l=[15, 17, 15,24]\n",
    "l2=unique_list(l)\n",
    "l2"
   ]
  },
  {
   "cell_type": "code",
   "execution_count": 157,
   "metadata": {},
   "outputs": [],
   "source": [
    "def uniq_list(l1):\n",
    "    new_list=[]\n",
    "    for i in l1:\n",
    "        if i not in new_list:\n",
    "            new_list.append(i)\n",
    "    return new_list"
   ]
  },
  {
   "cell_type": "code",
   "execution_count": 159,
   "metadata": {},
   "outputs": [
    {
     "data": {
      "text/plain": [
       "[15, 17, 24]"
      ]
     },
     "execution_count": 159,
     "metadata": {},
     "output_type": "execute_result"
    }
   ],
   "source": [
    "l1=[15,17,15,24]\n",
    "lst=uniq_list(l1)\n",
    "lst"
   ]
  },
  {
   "cell_type": "markdown",
   "metadata": {},
   "source": [
    "### Problem 3"
   ]
  },
  {
   "cell_type": "code",
   "execution_count": 44,
   "metadata": {},
   "outputs": [],
   "source": [
    "def fib_func(n):\n",
    "    new_list=[0,1]\n",
    "    for i in range(n):\n",
    "        new_list.append(new_list[i]+new_list[i+1])\n",
    "    print(new_list[-1])"
   ]
  },
  {
   "cell_type": "code",
   "execution_count": 45,
   "metadata": {},
   "outputs": [
    {
     "name": "stdout",
     "output_type": "stream",
     "text": [
      "21\n"
     ]
    }
   ],
   "source": [
    "a=fib_func(7)\n",
    "a"
   ]
  },
  {
   "cell_type": "markdown",
   "metadata": {},
   "source": [
    "### Problem 4"
   ]
  },
  {
   "cell_type": "code",
   "execution_count": 253,
   "metadata": {},
   "outputs": [
    {
     "name": "stdout",
     "output_type": "stream",
     "text": [
      "C:\\Users\\Dell\\Desktop\n"
     ]
    }
   ],
   "source": [
    "cd ~/Desktop"
   ]
  },
  {
   "cell_type": "code",
   "execution_count": 286,
   "metadata": {},
   "outputs": [],
   "source": [
    "class Person:\n",
    "    def __init__(self, name, last_name, age, gender, student, password):\n",
    "        self.name=name\n",
    "        self.last_name=last_name\n",
    "        self.age=age\n",
    "        self.gender=gender\n",
    "        self.student=student\n",
    "        self.__password=password\n",
    "        \n",
    "    def Greeting(self, second_person):\n",
    "        self.name=second_person.name\n",
    "        print(\"Welcome dear\", self.name)\n",
    "    def Goodbye(self):\n",
    "        print(\"Bye everyone\")\n",
    "    def Favourite_num(self, num1):\n",
    "            print(\"My favourite number is\", num1)\n",
    "    def Read_file(self, filename):\n",
    "        f = open(filename+\".txt\")\n",
    "        print(f.read())\n",
    "        f.close()\n",
    "    def set_password(self, new_password):\n",
    "        self.__password=new_password\n",
    "    def get_password(self):\n",
    "        return self.__password"
   ]
  },
  {
   "cell_type": "code",
   "execution_count": 294,
   "metadata": {},
   "outputs": [
    {
     "name": "stdout",
     "output_type": "stream",
     "text": [
      "Welcome dear Lily\n",
      "Bye everyone\n",
      "My favourite number is 5\n",
      "I made this file.\n"
     ]
    },
    {
     "data": {
      "text/plain": [
       "'secret1'"
      ]
     },
     "execution_count": 294,
     "metadata": {},
     "output_type": "execute_result"
    }
   ],
   "source": [
    "first_person=Person(\"Anna\",\"Hovhannisyan\",25,\"F\",True,\"secret1\")\n",
    "second_person=Person(\"Lily\", \"Margaryan\", 17,\"M\",False,\"secret2\")\n",
    "first_person.Greeting(second_person)\n",
    "first_person.Goodbye()\n",
    "first_person.Favourite_num(5)\n",
    "first_person.Read_file(\"Myfile\")\n",
    "first_person._Person__password"
   ]
  },
  {
   "cell_type": "code",
   "execution_count": 293,
   "metadata": {},
   "outputs": [
    {
     "data": {
      "text/plain": [
       "'anhov'"
      ]
     },
     "execution_count": 293,
     "metadata": {},
     "output_type": "execute_result"
    }
   ],
   "source": [
    "first_person.set_password(\"anhov\")\n",
    "first_person.get_password()"
   ]
  },
  {
   "cell_type": "markdown",
   "metadata": {},
   "source": [
    "### Problem 5"
   ]
  },
  {
   "cell_type": "code",
   "execution_count": 194,
   "metadata": {},
   "outputs": [],
   "source": [
    "class Calculation(object):\n",
    "    def __init__(self, x, y):\n",
    "        self.x=x\n",
    "        self.y=y\n",
    "    def addition(self):\n",
    "        print(self.x+self.y)\n",
    "    def subtraction(self):\n",
    "        print(self.x-self.y)\n",
    "class MyCalculation(Calculation): \n",
    "    def __init__(self, x, y):\n",
    "        Calculation.__init__(self,x,y)\n",
    "    def multiplication(self):\n",
    "        print(self.x * self.y)\n",
    "    def division(self):\n",
    "        print(self.x/self.y)"
   ]
  },
  {
   "cell_type": "code",
   "execution_count": 195,
   "metadata": {},
   "outputs": [
    {
     "name": "stdout",
     "output_type": "stream",
     "text": [
      "8\n",
      "-2\n",
      "15\n",
      "0.6\n"
     ]
    }
   ],
   "source": [
    "c=MyCalculation(3,5)\n",
    "c.addition()\n",
    "c.subtraction()\n",
    "c.multiplication()\n",
    "c.division()"
   ]
  },
  {
   "cell_type": "code",
   "execution_count": 175,
   "metadata": {},
   "outputs": [],
   "source": []
  },
  {
   "cell_type": "code",
   "execution_count": null,
   "metadata": {},
   "outputs": [],
   "source": []
  }
 ],
 "metadata": {
  "kernelspec": {
   "display_name": "Python 3",
   "language": "python",
   "name": "python3"
  },
  "language_info": {
   "codemirror_mode": {
    "name": "ipython",
    "version": 3
   },
   "file_extension": ".py",
   "mimetype": "text/x-python",
   "name": "python",
   "nbconvert_exporter": "python",
   "pygments_lexer": "ipython3",
   "version": "3.7.6"
  }
 },
 "nbformat": 4,
 "nbformat_minor": 4
}
