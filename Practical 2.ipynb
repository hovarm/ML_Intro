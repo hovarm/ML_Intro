{
 "cells": [
  {
   "cell_type": "markdown",
   "metadata": {},
   "source": [
    "### Problem 1"
   ]
  },
  {
   "cell_type": "code",
   "execution_count": 8,
   "metadata": {},
   "outputs": [
    {
     "data": {
      "text/plain": [
       "8"
      ]
     },
     "execution_count": 8,
     "metadata": {},
     "output_type": "execute_result"
    }
   ],
   "source": [
    "def avg(x,y,z):\n",
    "    return x+y+z\n",
    "a=avg(1,2,5)\n",
    "a"
   ]
  },
  {
   "cell_type": "markdown",
   "metadata": {},
   "source": [
    "### Problem 2"
   ]
  },
  {
   "cell_type": "code",
   "execution_count": 15,
   "metadata": {},
   "outputs": [
    {
     "data": {
      "text/plain": [
       "2"
      ]
     },
     "execution_count": 15,
     "metadata": {},
     "output_type": "execute_result"
    }
   ],
   "source": [
    "def even(l):\n",
    "    l2=[i for i in l if i%2==0]\n",
    "    return len(l2)\n",
    "my_list=[15,32,16,13,55,53]\n",
    "even(my_list)"
   ]
  },
  {
   "cell_type": "markdown",
   "metadata": {},
   "source": [
    "### Problem 3"
   ]
  },
  {
   "cell_type": "code",
   "execution_count": 88,
   "metadata": {
    "scrolled": true
   },
   "outputs": [
    {
     "name": "stdout",
     "output_type": "stream",
     "text": [
      "Anne, your average grade is:  16.0\n"
     ]
    }
   ],
   "source": [
    "def func(name, *args):\n",
    "    if len(args)>=1:        \n",
    "        print(name + \", your average grade is: \" , sum(args)/len(args))\n",
    "    else:\n",
    "        print(\"No grades available for \" + name)\n",
    "a=func(\"Anne\", 15, 17)\n",
    "a"
   ]
  },
  {
   "cell_type": "markdown",
   "metadata": {},
   "source": [
    "### Problem 4"
   ]
  },
  {
   "cell_type": "code",
   "execution_count": 132,
   "metadata": {},
   "outputs": [],
   "source": [
    "class Circle:\n",
    "    def __init__(self, color, radius):\n",
    "        self.radius=radius\n",
    "        self.color=color\n",
    "        \n",
    "    def getDesc(self):\n",
    "        print(\"A %s circle with radius %s\"  % (self.color, self.radius))"
   ]
  },
  {
   "cell_type": "code",
   "execution_count": 133,
   "metadata": {},
   "outputs": [
    {
     "name": "stdout",
     "output_type": "stream",
     "text": [
      "A red circle with radius 3\n"
     ]
    }
   ],
   "source": [
    "c1=Circle('red', 3)\n",
    "c1.getDesc()"
   ]
  },
  {
   "cell_type": "markdown",
   "metadata": {},
   "source": [
    "### Problem 5"
   ]
  },
  {
   "cell_type": "code",
   "execution_count": 155,
   "metadata": {},
   "outputs": [
    {
     "name": "stdout",
     "output_type": "stream",
     "text": [
      "Lily Park\n",
      "High\n"
     ]
    }
   ],
   "source": [
    "class Employee:\n",
    "    def __init__(self, name, last_name, monthly_salary):\n",
    "        self.name=name\n",
    "        self.last_name=last_name\n",
    "        self.__monthly_salary=monthly_salary\n",
    "    def getFullName(self):\n",
    "        return self.name+ \" \"+ self.last_name\n",
    "    def annualSalary(self):\n",
    "        if self.__monthly_salary>100:\n",
    "            print(\"High\")\n",
    "        else:\n",
    "            print(\"Low\")\n",
    "emp1=Employee(\"Lily\", \"Park\", 300)\n",
    "print(emp1.getFullName())\n",
    "emp1.annualSalary()"
   ]
  },
  {
   "cell_type": "markdown",
   "metadata": {},
   "source": [
    "### Problem 6"
   ]
  },
  {
   "cell_type": "code",
   "execution_count": 237,
   "metadata": {},
   "outputs": [
    {
     "name": "stdout",
     "output_type": "stream",
     "text": [
      "car2 is better than car1\n"
     ]
    }
   ],
   "source": [
    "class Car:\n",
    "    def __init__(self, model,color, max_speed):\n",
    "        self.model=model\n",
    "        self.color=color\n",
    "        self.max_speed=max_speed\n",
    "    def compareCar(self, car2):\n",
    "        if self.max_speed>car2.max_speed:\n",
    "            print(\"car1 is better than car2\")\n",
    "        else:\n",
    "            print(\"car2 is better than car1\")\n",
    "\n",
    "car1=Car(\"Mercedes\", \"white\", 250)\n",
    "car2=Car(\"BMW\", \"black\", 330)\n",
    "car1.compareCar(car2)"
   ]
  },
  {
   "cell_type": "markdown",
   "metadata": {},
   "source": [
    "### Problem 7"
   ]
  },
  {
   "cell_type": "code",
   "execution_count": 5,
   "metadata": {},
   "outputs": [
    {
     "name": "stdout",
     "output_type": "stream",
     "text": [
      "I can move.\n"
     ]
    }
   ],
   "source": [
    "class Animal:\n",
    "    def __init__(self, name):\n",
    "        self.name=name\n",
    "    def move(self):\n",
    "        print('I can move.')\n",
    "class Dog(Animal):\n",
    "    def __init__(self):\n",
    "       Animal.__init__(self,\"Dog\") \n",
    "d=Dog()\n",
    "d.move()"
   ]
  },
  {
   "cell_type": "code",
   "execution_count": 7,
   "metadata": {},
   "outputs": [
    {
     "name": "stdout",
     "output_type": "stream",
     "text": [
      "I can run really fast\n"
     ]
    }
   ],
   "source": [
    "class Animal:\n",
    "    def __init__(self, name):\n",
    "        self.name=name\n",
    "    def move(self):\n",
    "        print('I can move.')\n",
    "class Dog(Animal):\n",
    "    def __init__(self):\n",
    "       Animal.__init__(self,\"Dog\") \n",
    "    def move(self):\n",
    "        print(\"I can run really fast\")\n",
    "d=Dog()\n",
    "d.move()"
   ]
  }
 ],
 "metadata": {
  "kernelspec": {
   "display_name": "Python 3",
   "language": "python",
   "name": "python3"
  },
  "language_info": {
   "codemirror_mode": {
    "name": "ipython",
    "version": 3
   },
   "file_extension": ".py",
   "mimetype": "text/x-python",
   "name": "python",
   "nbconvert_exporter": "python",
   "pygments_lexer": "ipython3",
   "version": "3.7.6"
  }
 },
 "nbformat": 4,
 "nbformat_minor": 4
}
