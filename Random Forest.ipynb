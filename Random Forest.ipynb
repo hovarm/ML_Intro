{
 "cells": [
  {
   "cell_type": "markdown",
   "metadata": {},
   "source": [
    "# Write a function to calculate gini index for the given dataset"
   ]
  },
  {
   "cell_type": "markdown",
   "metadata": {},
   "source": [
    "x: list of counts\n",
    "<br>\n",
    "if we have 30 elements from one class, 40 elements from the second and 50 elements from third then x == [30,40,50]"
   ]
  },
  {
   "cell_type": "code",
   "execution_count": 1,
   "metadata": {},
   "outputs": [],
   "source": [
    "import numpy as np"
   ]
  },
  {
   "cell_type": "code",
   "execution_count": 2,
   "metadata": {},
   "outputs": [],
   "source": [
    "def gini(x:list):\n",
    "    P=[]\n",
    "    for i in range(len(x)):\n",
    "        p=x[i]/sum(x)\n",
    "        P.append(p)\n",
    "    p_sq=[j**2  for j in P]\n",
    "    Gin=1-sum(p_sq)\n",
    "    return Gin"
   ]
  },
  {
   "cell_type": "code",
   "execution_count": 3,
   "metadata": {},
   "outputs": [
    {
     "data": {
      "text/plain": [
       "0.6527777777777778"
      ]
     },
     "execution_count": 3,
     "metadata": {},
     "output_type": "execute_result"
    }
   ],
   "source": [
    "x=[30,40,50]\n",
    "gini(x)"
   ]
  },
  {
   "cell_type": "markdown",
   "metadata": {},
   "source": [
    "# Write a function to calculate gini index for the given split"
   ]
  },
  {
   "cell_type": "markdown",
   "metadata": {},
   "source": [
    "x: list of counts for the left dataset \n",
    "<br>\n",
    "y: list of counts for the right dataset"
   ]
  },
  {
   "cell_type": "code",
   "execution_count": 4,
   "metadata": {},
   "outputs": [],
   "source": [
    "def split_gini(x:list, y:list):\n",
    "    x_p=[]\n",
    "    y_p=[]\n",
    "    for i in range(len(x)):\n",
    "        x_p.append((x[i]/sum(x))**2)\n",
    "        y_p.append((y[i]/sum(y))**2)\n",
    "    GI=1-(sum(x_p)+sum(y_p))/2\n",
    "    return GI"
   ]
  },
  {
   "cell_type": "code",
   "execution_count": 5,
   "metadata": {},
   "outputs": [
    {
     "data": {
      "text/plain": [
       "0.6165872454035617"
      ]
     },
     "execution_count": 5,
     "metadata": {},
     "output_type": "execute_result"
    }
   ],
   "source": [
    "x=[25,50,60]\n",
    "y=[35,33,80]\n",
    "split_gini(x,y)"
   ]
  },
  {
   "cell_type": "markdown",
   "metadata": {},
   "source": [
    "# Apply Decision Tree Classifier on the 'classification.csv' dataset from the previous homework."
   ]
  },
  {
   "cell_type": "code",
   "execution_count": 101,
   "metadata": {},
   "outputs": [
    {
     "name": "stdout",
     "output_type": "stream",
     "text": [
      "C:\\Users\\Dell\\Desktop\\Machine Learning\\Programming\n"
     ]
    }
   ],
   "source": [
    "cd C:\\Users\\Dell\\Desktop\\Machine Learning\\Programming"
   ]
  },
  {
   "cell_type": "code",
   "execution_count": 297,
   "metadata": {},
   "outputs": [
    {
     "data": {
      "text/html": [
       "<div>\n",
       "<style scoped>\n",
       "    .dataframe tbody tr th:only-of-type {\n",
       "        vertical-align: middle;\n",
       "    }\n",
       "\n",
       "    .dataframe tbody tr th {\n",
       "        vertical-align: top;\n",
       "    }\n",
       "\n",
       "    .dataframe thead th {\n",
       "        text-align: right;\n",
       "    }\n",
       "</style>\n",
       "<table border=\"1\" class=\"dataframe\">\n",
       "  <thead>\n",
       "    <tr style=\"text-align: right;\">\n",
       "      <th></th>\n",
       "      <th>age</th>\n",
       "      <th>ed</th>\n",
       "      <th>employ</th>\n",
       "      <th>address</th>\n",
       "      <th>income</th>\n",
       "      <th>debtinc</th>\n",
       "      <th>creddebt</th>\n",
       "      <th>othdebt</th>\n",
       "      <th>default</th>\n",
       "    </tr>\n",
       "  </thead>\n",
       "  <tbody>\n",
       "    <tr>\n",
       "      <th>0</th>\n",
       "      <td>41</td>\n",
       "      <td>college degree</td>\n",
       "      <td>17</td>\n",
       "      <td>12</td>\n",
       "      <td>176</td>\n",
       "      <td>9.3</td>\n",
       "      <td>11.359392</td>\n",
       "      <td>5.008608</td>\n",
       "      <td>1</td>\n",
       "    </tr>\n",
       "    <tr>\n",
       "      <th>1</th>\n",
       "      <td>27</td>\n",
       "      <td>no high school</td>\n",
       "      <td>10</td>\n",
       "      <td>6</td>\n",
       "      <td>31</td>\n",
       "      <td>17.3</td>\n",
       "      <td>1.362202</td>\n",
       "      <td>4.000798</td>\n",
       "      <td>0</td>\n",
       "    </tr>\n",
       "    <tr>\n",
       "      <th>2</th>\n",
       "      <td>40</td>\n",
       "      <td>no high school</td>\n",
       "      <td>15</td>\n",
       "      <td>14</td>\n",
       "      <td>55</td>\n",
       "      <td>5.5</td>\n",
       "      <td>0.856075</td>\n",
       "      <td>2.168925</td>\n",
       "      <td>0</td>\n",
       "    </tr>\n",
       "    <tr>\n",
       "      <th>3</th>\n",
       "      <td>41</td>\n",
       "      <td>no high school</td>\n",
       "      <td>15</td>\n",
       "      <td>14</td>\n",
       "      <td>120</td>\n",
       "      <td>2.9</td>\n",
       "      <td>2.658720</td>\n",
       "      <td>0.821280</td>\n",
       "      <td>0</td>\n",
       "    </tr>\n",
       "    <tr>\n",
       "      <th>4</th>\n",
       "      <td>24</td>\n",
       "      <td>high school</td>\n",
       "      <td>2</td>\n",
       "      <td>0</td>\n",
       "      <td>28</td>\n",
       "      <td>17.3</td>\n",
       "      <td>1.787436</td>\n",
       "      <td>3.056564</td>\n",
       "      <td>1</td>\n",
       "    </tr>\n",
       "  </tbody>\n",
       "</table>\n",
       "</div>"
      ],
      "text/plain": [
       "   age              ed  employ  address  income  debtinc   creddebt   othdebt  \\\n",
       "0   41  college degree      17       12     176      9.3  11.359392  5.008608   \n",
       "1   27  no high school      10        6      31     17.3   1.362202  4.000798   \n",
       "2   40  no high school      15       14      55      5.5   0.856075  2.168925   \n",
       "3   41  no high school      15       14     120      2.9   2.658720  0.821280   \n",
       "4   24     high school       2        0      28     17.3   1.787436  3.056564   \n",
       "\n",
       "   default  \n",
       "0        1  \n",
       "1        0  \n",
       "2        0  \n",
       "3        0  \n",
       "4        1  "
      ]
     },
     "execution_count": 297,
     "metadata": {},
     "output_type": "execute_result"
    }
   ],
   "source": [
    "import pandas as pd\n",
    "df=pd.read_csv(\"Class 10/classification.csv\")\n",
    "df.head()"
   ]
  },
  {
   "cell_type": "code",
   "execution_count": 298,
   "metadata": {},
   "outputs": [],
   "source": [
    "y=df['default']"
   ]
  },
  {
   "cell_type": "code",
   "execution_count": 299,
   "metadata": {},
   "outputs": [],
   "source": [
    "from sklearn.tree import DecisionTreeClassifier\n",
    "from sklearn.model_selection import train_test_split\n",
    "from sklearn.model_selection import KFold\n",
    "from sklearn.metrics import mean_squared_error, r2_score\n",
    "from sklearn import metrics\n",
    "from sklearn.tree import export_graphviz\n",
    "from sklearn.externals.six import StringIO  \n",
    "from IPython.display import Image"
   ]
  },
  {
   "cell_type": "code",
   "execution_count": 300,
   "metadata": {},
   "outputs": [
    {
     "data": {
      "text/html": [
       "<div>\n",
       "<style scoped>\n",
       "    .dataframe tbody tr th:only-of-type {\n",
       "        vertical-align: middle;\n",
       "    }\n",
       "\n",
       "    .dataframe tbody tr th {\n",
       "        vertical-align: top;\n",
       "    }\n",
       "\n",
       "    .dataframe thead th {\n",
       "        text-align: right;\n",
       "    }\n",
       "</style>\n",
       "<table border=\"1\" class=\"dataframe\">\n",
       "  <thead>\n",
       "    <tr style=\"text-align: right;\">\n",
       "      <th></th>\n",
       "      <th>age</th>\n",
       "      <th>employ</th>\n",
       "      <th>address</th>\n",
       "      <th>income</th>\n",
       "      <th>debtinc</th>\n",
       "      <th>creddebt</th>\n",
       "      <th>othdebt</th>\n",
       "      <th>graduate</th>\n",
       "      <th>high school</th>\n",
       "      <th>no high school</th>\n",
       "    </tr>\n",
       "  </thead>\n",
       "  <tbody>\n",
       "    <tr>\n",
       "      <th>0</th>\n",
       "      <td>41</td>\n",
       "      <td>17</td>\n",
       "      <td>12</td>\n",
       "      <td>176</td>\n",
       "      <td>9.3</td>\n",
       "      <td>11.359392</td>\n",
       "      <td>5.008608</td>\n",
       "      <td>1</td>\n",
       "      <td>0</td>\n",
       "      <td>0</td>\n",
       "    </tr>\n",
       "    <tr>\n",
       "      <th>1</th>\n",
       "      <td>27</td>\n",
       "      <td>10</td>\n",
       "      <td>6</td>\n",
       "      <td>31</td>\n",
       "      <td>17.3</td>\n",
       "      <td>1.362202</td>\n",
       "      <td>4.000798</td>\n",
       "      <td>0</td>\n",
       "      <td>0</td>\n",
       "      <td>1</td>\n",
       "    </tr>\n",
       "    <tr>\n",
       "      <th>2</th>\n",
       "      <td>40</td>\n",
       "      <td>15</td>\n",
       "      <td>14</td>\n",
       "      <td>55</td>\n",
       "      <td>5.5</td>\n",
       "      <td>0.856075</td>\n",
       "      <td>2.168925</td>\n",
       "      <td>0</td>\n",
       "      <td>0</td>\n",
       "      <td>1</td>\n",
       "    </tr>\n",
       "    <tr>\n",
       "      <th>3</th>\n",
       "      <td>41</td>\n",
       "      <td>15</td>\n",
       "      <td>14</td>\n",
       "      <td>120</td>\n",
       "      <td>2.9</td>\n",
       "      <td>2.658720</td>\n",
       "      <td>0.821280</td>\n",
       "      <td>0</td>\n",
       "      <td>0</td>\n",
       "      <td>1</td>\n",
       "    </tr>\n",
       "    <tr>\n",
       "      <th>4</th>\n",
       "      <td>24</td>\n",
       "      <td>2</td>\n",
       "      <td>0</td>\n",
       "      <td>28</td>\n",
       "      <td>17.3</td>\n",
       "      <td>1.787436</td>\n",
       "      <td>3.056564</td>\n",
       "      <td>0</td>\n",
       "      <td>1</td>\n",
       "      <td>0</td>\n",
       "    </tr>\n",
       "  </tbody>\n",
       "</table>\n",
       "</div>"
      ],
      "text/plain": [
       "   age  employ  address  income  debtinc   creddebt   othdebt  graduate  \\\n",
       "0   41      17       12     176      9.3  11.359392  5.008608         1   \n",
       "1   27      10        6      31     17.3   1.362202  4.000798         0   \n",
       "2   40      15       14      55      5.5   0.856075  2.168925         0   \n",
       "3   41      15       14     120      2.9   2.658720  0.821280         0   \n",
       "4   24       2        0      28     17.3   1.787436  3.056564         0   \n",
       "\n",
       "   high school  no high school  \n",
       "0            0               0  \n",
       "1            0               1  \n",
       "2            0               1  \n",
       "3            0               1  \n",
       "4            1               0  "
      ]
     },
     "execution_count": 300,
     "metadata": {},
     "output_type": "execute_result"
    }
   ],
   "source": [
    "df = df.replace({'college degree':'graduate','undergraduate':'graduate','postgraduate': 'graduate'})\n",
    "df=pd.concat([df,pd.get_dummies(df['ed'])], axis=1)\n",
    "df=df.drop(['default','ed'], axis=1)\n",
    "df.head()"
   ]
  },
  {
   "cell_type": "code",
   "execution_count": 339,
   "metadata": {},
   "outputs": [
    {
     "data": {
      "text/html": [
       "<div>\n",
       "<style scoped>\n",
       "    .dataframe tbody tr th:only-of-type {\n",
       "        vertical-align: middle;\n",
       "    }\n",
       "\n",
       "    .dataframe tbody tr th {\n",
       "        vertical-align: top;\n",
       "    }\n",
       "\n",
       "    .dataframe thead th {\n",
       "        text-align: right;\n",
       "    }\n",
       "</style>\n",
       "<table border=\"1\" class=\"dataframe\">\n",
       "  <thead>\n",
       "    <tr style=\"text-align: right;\">\n",
       "      <th></th>\n",
       "      <th>age</th>\n",
       "      <th>employ</th>\n",
       "      <th>address</th>\n",
       "      <th>income</th>\n",
       "      <th>debtinc</th>\n",
       "      <th>creddebt</th>\n",
       "      <th>othdebt</th>\n",
       "      <th>graduate</th>\n",
       "      <th>high school</th>\n",
       "      <th>no high school</th>\n",
       "    </tr>\n",
       "  </thead>\n",
       "  <tbody>\n",
       "    <tr>\n",
       "      <th>count</th>\n",
       "      <td>700.000000</td>\n",
       "      <td>700.000000</td>\n",
       "      <td>700.000000</td>\n",
       "      <td>700.000000</td>\n",
       "      <td>700.000000</td>\n",
       "      <td>700.000000</td>\n",
       "      <td>700.000000</td>\n",
       "      <td>700.000000</td>\n",
       "      <td>700.000000</td>\n",
       "      <td>700.000000</td>\n",
       "    </tr>\n",
       "    <tr>\n",
       "      <th>mean</th>\n",
       "      <td>34.860000</td>\n",
       "      <td>8.388571</td>\n",
       "      <td>8.278571</td>\n",
       "      <td>45.601429</td>\n",
       "      <td>10.260571</td>\n",
       "      <td>1.553553</td>\n",
       "      <td>3.058209</td>\n",
       "      <td>0.185714</td>\n",
       "      <td>0.282857</td>\n",
       "      <td>0.531429</td>\n",
       "    </tr>\n",
       "    <tr>\n",
       "      <th>std</th>\n",
       "      <td>7.997342</td>\n",
       "      <td>6.658039</td>\n",
       "      <td>6.824877</td>\n",
       "      <td>36.814226</td>\n",
       "      <td>6.827234</td>\n",
       "      <td>2.117197</td>\n",
       "      <td>3.287555</td>\n",
       "      <td>0.389154</td>\n",
       "      <td>0.450710</td>\n",
       "      <td>0.499368</td>\n",
       "    </tr>\n",
       "    <tr>\n",
       "      <th>min</th>\n",
       "      <td>20.000000</td>\n",
       "      <td>0.000000</td>\n",
       "      <td>0.000000</td>\n",
       "      <td>14.000000</td>\n",
       "      <td>0.400000</td>\n",
       "      <td>0.011696</td>\n",
       "      <td>0.045584</td>\n",
       "      <td>0.000000</td>\n",
       "      <td>0.000000</td>\n",
       "      <td>0.000000</td>\n",
       "    </tr>\n",
       "    <tr>\n",
       "      <th>25%</th>\n",
       "      <td>29.000000</td>\n",
       "      <td>3.000000</td>\n",
       "      <td>3.000000</td>\n",
       "      <td>24.000000</td>\n",
       "      <td>5.000000</td>\n",
       "      <td>0.369059</td>\n",
       "      <td>1.044178</td>\n",
       "      <td>0.000000</td>\n",
       "      <td>0.000000</td>\n",
       "      <td>0.000000</td>\n",
       "    </tr>\n",
       "    <tr>\n",
       "      <th>50%</th>\n",
       "      <td>34.000000</td>\n",
       "      <td>7.000000</td>\n",
       "      <td>7.000000</td>\n",
       "      <td>34.000000</td>\n",
       "      <td>8.600000</td>\n",
       "      <td>0.854869</td>\n",
       "      <td>1.987567</td>\n",
       "      <td>0.000000</td>\n",
       "      <td>0.000000</td>\n",
       "      <td>1.000000</td>\n",
       "    </tr>\n",
       "    <tr>\n",
       "      <th>75%</th>\n",
       "      <td>40.000000</td>\n",
       "      <td>12.000000</td>\n",
       "      <td>12.000000</td>\n",
       "      <td>55.000000</td>\n",
       "      <td>14.125000</td>\n",
       "      <td>1.901955</td>\n",
       "      <td>3.923065</td>\n",
       "      <td>0.000000</td>\n",
       "      <td>1.000000</td>\n",
       "      <td>1.000000</td>\n",
       "    </tr>\n",
       "    <tr>\n",
       "      <th>max</th>\n",
       "      <td>56.000000</td>\n",
       "      <td>31.000000</td>\n",
       "      <td>34.000000</td>\n",
       "      <td>446.000000</td>\n",
       "      <td>41.300000</td>\n",
       "      <td>20.561310</td>\n",
       "      <td>27.033600</td>\n",
       "      <td>1.000000</td>\n",
       "      <td>1.000000</td>\n",
       "      <td>1.000000</td>\n",
       "    </tr>\n",
       "  </tbody>\n",
       "</table>\n",
       "</div>"
      ],
      "text/plain": [
       "              age      employ     address      income     debtinc    creddebt  \\\n",
       "count  700.000000  700.000000  700.000000  700.000000  700.000000  700.000000   \n",
       "mean    34.860000    8.388571    8.278571   45.601429   10.260571    1.553553   \n",
       "std      7.997342    6.658039    6.824877   36.814226    6.827234    2.117197   \n",
       "min     20.000000    0.000000    0.000000   14.000000    0.400000    0.011696   \n",
       "25%     29.000000    3.000000    3.000000   24.000000    5.000000    0.369059   \n",
       "50%     34.000000    7.000000    7.000000   34.000000    8.600000    0.854869   \n",
       "75%     40.000000   12.000000   12.000000   55.000000   14.125000    1.901955   \n",
       "max     56.000000   31.000000   34.000000  446.000000   41.300000   20.561310   \n",
       "\n",
       "          othdebt    graduate  high school  no high school  \n",
       "count  700.000000  700.000000   700.000000      700.000000  \n",
       "mean     3.058209    0.185714     0.282857        0.531429  \n",
       "std      3.287555    0.389154     0.450710        0.499368  \n",
       "min      0.045584    0.000000     0.000000        0.000000  \n",
       "25%      1.044178    0.000000     0.000000        0.000000  \n",
       "50%      1.987567    0.000000     0.000000        1.000000  \n",
       "75%      3.923065    0.000000     1.000000        1.000000  \n",
       "max     27.033600    1.000000     1.000000        1.000000  "
      ]
     },
     "execution_count": 339,
     "metadata": {},
     "output_type": "execute_result"
    }
   ],
   "source": [
    "df.describe()"
   ]
  },
  {
   "cell_type": "code",
   "execution_count": 307,
   "metadata": {},
   "outputs": [],
   "source": [
    "def depth(model, dt, y, folds=10):\n",
    "    kf = KFold(n_splits=folds)\n",
    "    test_rmse = []\n",
    "    train_rmse = []\n",
    "    depthlist=np.array(range(1,20))\n",
    "    \n",
    "    for idep in depthlist:\n",
    "\n",
    "        for train_index, test_index in kf.split(dt):\n",
    "            xTrain, xTest = dt.loc[train_index], dt.loc[test_index]\n",
    "            yTrain, yTest = y[train_index], y[test_index]\n",
    "\n",
    "            model=DecisionTreeClassifier(max_depth=idep)\n",
    "            model.fit(xTrain, yTrain)\n",
    "            predict_test = model.predict(xTest)\n",
    "            predict_train = model.predict(xTrain)\n",
    "\n",
    "            test_rmse.append(np.sqrt(mean_squared_error(yTest, predict_test)))\n",
    "            train_rmse.append(np.sqrt(mean_squared_error(yTrain, predict_train)))\n",
    "            \n",
    "        print(\"Depth:\", idep, \"MEAN TEST RMSE:\", np.mean(test_rmse), \"MEAN TRAIN RMSE:\", np.mean(train_rmse))\n"
   ]
  },
  {
   "cell_type": "code",
   "execution_count": 309,
   "metadata": {},
   "outputs": [
    {
     "name": "stdout",
     "output_type": "stream",
     "text": [
      "Depth: 1 MEAN TEST RMSE: 0.5096127452135631 MEAN TRAIN RMSE: 0.5050811643852191\n",
      "Depth: 2 MEAN TEST RMSE: 0.5029704256487142 MEAN TRAIN RMSE: 0.4853571558709551\n",
      "Depth: 3 MEAN TEST RMSE: 0.4987055770134849 MEAN TRAIN RMSE: 0.46933812560972954\n",
      "Depth: 4 MEAN TEST RMSE: 0.49836311939259625 MEAN TRAIN RMSE: 0.45518390603147374\n",
      "Depth: 5 MEAN TEST RMSE: 0.49754885472007937 MEAN TRAIN RMSE: 0.4408944929147195\n",
      "Depth: 6 MEAN TEST RMSE: 0.49840093353894804 MEAN TRAIN RMSE: 0.4238537661945344\n",
      "Depth: 7 MEAN TEST RMSE: 0.49888878869711856 MEAN TRAIN RMSE: 0.4051078749204026\n",
      "Depth: 8 MEAN TEST RMSE: 0.4986261145681598 MEAN TRAIN RMSE: 0.3848817234880335\n",
      "Depth: 9 MEAN TEST RMSE: 0.5002273322089034 MEAN TRAIN RMSE: 0.3639598718102532\n",
      "Depth: 10 MEAN TEST RMSE: 0.5023074711879988 MEAN TRAIN RMSE: 0.3417108442385576\n",
      "Depth: 11 MEAN TEST RMSE: 0.5038242337447546 MEAN TRAIN RMSE: 0.3199709918639707\n",
      "Depth: 12 MEAN TEST RMSE: 0.5055414014624239 MEAN TRAIN RMSE: 0.299295277550603\n",
      "Depth: 13 MEAN TEST RMSE: 0.5059167566996284 MEAN TRAIN RMSE: 0.2792645366406505\n",
      "Depth: 14 MEAN TEST RMSE: 0.5063961609127315 MEAN TRAIN RMSE: 0.2611404399464964\n",
      "Depth: 15 MEAN TEST RMSE: 0.507769931298047 MEAN TRAIN RMSE: 0.244516751484715\n",
      "Depth: 16 MEAN TEST RMSE: 0.5089601518322153 MEAN TRAIN RMSE: 0.22979124877090454\n",
      "Depth: 17 MEAN TEST RMSE: 0.5105683345374755 MEAN TRAIN RMSE: 0.21664466989517409\n",
      "Depth: 18 MEAN TEST RMSE: 0.5109359319467279 MEAN TRAIN RMSE: 0.20495882200563595\n",
      "Depth: 19 MEAN TEST RMSE: 0.5119165526243588 MEAN TRAIN RMSE: 0.19440595527017476\n"
     ]
    }
   ],
   "source": [
    "depth(dtc,df[:int(0.8*len(df))],y[:int(0.8*len(y))])"
   ]
  },
  {
   "cell_type": "code",
   "execution_count": 337,
   "metadata": {},
   "outputs": [
    {
     "data": {
      "text/plain": [
       "0.49280538030458115"
      ]
     },
     "execution_count": 337,
     "metadata": {},
     "output_type": "execute_result"
    }
   ],
   "source": [
    "clf = DecisionTreeClassifier(max_depth=5)\n",
    "clf.fit(df[:int(0.8*len(df))],y[:int(0.8*len(y))])\n",
    "pred = clf.predict(df[int(0.8*len(df)):])\n",
    "np.sqrt(mean_squared_error(y[int(0.8*len(df)):], pred))"
   ]
  },
  {
   "cell_type": "markdown",
   "metadata": {},
   "source": [
    "# Implement Random Forest"
   ]
  },
  {
   "cell_type": "code",
   "execution_count": 446,
   "metadata": {},
   "outputs": [],
   "source": [
    "import random"
   ]
  },
  {
   "cell_type": "code",
   "execution_count": 447,
   "metadata": {},
   "outputs": [
    {
     "ename": "IndentationError",
     "evalue": "expected an indented block (<ipython-input-447-6ad7121cec10>, line 4)",
     "output_type": "error",
     "traceback": [
      "\u001b[1;36m  File \u001b[1;32m\"<ipython-input-447-6ad7121cec10>\"\u001b[1;36m, line \u001b[1;32m4\u001b[0m\n\u001b[1;33m    def fit(train_df,train_y, n_trees, n_bootstrap, n_features, dt_max_depth):\u001b[0m\n\u001b[1;37m      ^\u001b[0m\n\u001b[1;31mIndentationError\u001b[0m\u001b[1;31m:\u001b[0m expected an indented block\n"
     ]
    }
   ],
   "source": [
    "class RandomForest:\n",
    "    def __init__(self):\n",
    "        clf=decision\n",
    "    def fit(train_df,train_y, n_trees, n_bootstrap, n_features, dt_max_depth):\n",
    "        forest=[]\n",
    "\n",
    "        for i in range(n_trees):\n",
    "            bootstrap_indices=np_random.randint(0, len(train_df),n_bootstrap)\n",
    "            df_bootstrapped=train_df.iloc[bootstrap_indices]\n",
    "            y_bootstrapped=train_y.iloc[bootstrap_indices]\n",
    "            tree = DecisionTreeClassifier(dt_max_depth).fit(train_df, train_y)\n",
    "            forest.append(tree)\n",
    "    \n",
    "        return forest\n",
    "        \n",
    "    def predict(test_df, forest):\n",
    "        tr_pred=clf.predict(test_df)\n",
    "        ts_pred=clf.predict\n",
    "        return random_forest_predictions\n",
    "    \n",
    "    def score(predictions, test_y):\n",
    "        accuracy=clf.score(, test_df)\n",
    "        return accuracy"
   ]
  },
  {
   "cell_type": "code",
   "execution_count": 438,
   "metadata": {},
   "outputs": [],
   "source": []
  },
  {
   "cell_type": "code",
   "execution_count": null,
   "metadata": {},
   "outputs": [],
   "source": []
  },
  {
   "cell_type": "code",
   "execution_count": null,
   "metadata": {},
   "outputs": [],
   "source": []
  },
  {
   "cell_type": "code",
   "execution_count": null,
   "metadata": {},
   "outputs": [],
   "source": []
  },
  {
   "cell_type": "code",
   "execution_count": null,
   "metadata": {},
   "outputs": [],
   "source": []
  }
 ],
 "metadata": {
  "kernelspec": {
   "display_name": "Python 3",
   "language": "python",
   "name": "python3"
  },
  "language_info": {
   "codemirror_mode": {
    "name": "ipython",
    "version": 3
   },
   "file_extension": ".py",
   "mimetype": "text/x-python",
   "name": "python",
   "nbconvert_exporter": "python",
   "pygments_lexer": "ipython3",
   "version": "3.7.6"
  }
 },
 "nbformat": 4,
 "nbformat_minor": 4
}
